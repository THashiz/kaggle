{
  "nbformat": 4,
  "nbformat_minor": 0,
  "metadata": {
    "colab": {
      "name": "M5-cal.ipynb ",
      "provenance": [],
      "collapsed_sections": [],
      "authorship_tag": "ABX9TyNqxDRse/rdmQQhpBEBfY/T",
      "include_colab_link": true
    },
    "kernelspec": {
      "name": "python3",
      "display_name": "Python 3"
    }
  },
  "cells": [
    {
      "cell_type": "markdown",
      "metadata": {
        "id": "view-in-github",
        "colab_type": "text"
      },
      "source": [
        "<a href=\"https://colab.research.google.com/github/THashiz/m5-ia/blob/master/M5_cal.ipynb\" target=\"_parent\"><img src=\"https://colab.research.google.com/assets/colab-badge.svg\" alt=\"Open In Colab\"/></a>"
      ]
    },
    {
      "cell_type": "markdown",
      "metadata": {
        "id": "xum2Pv9CtDKQ",
        "colab_type": "text"
      },
      "source": [
        "# M5 カレンダー分析"
      ]
    },
    {
      "cell_type": "code",
      "metadata": {
        "id": "sfYBUgCttKNd",
        "colab_type": "code",
        "outputId": "c6f85019-2f56-41a8-f4af-02600e49515e",
        "colab": {
          "resources": {
            "http://localhost:8080/nbextensions/google.colab/files.js": {
              "data": "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",
              "ok": true,
              "headers": [
                [
                  "content-type",
                  "application/javascript"
                ]
              ],
              "status": 200,
              "status_text": ""
            }
          },
          "base_uri": "https://localhost:8080/",
          "height": 71
        }
      },
      "source": [
        "# kaggle API key upload\n",
        "from google.colab import files\n",
        "uploaded = files.upload()"
      ],
      "execution_count": 0,
      "outputs": [
        {
          "output_type": "display_data",
          "data": {
            "text/html": [
              "\n",
              "     <input type=\"file\" id=\"files-4354deb0-eee0-416b-8991-fa92a7271e24\" name=\"files[]\" multiple disabled />\n",
              "     <output id=\"result-4354deb0-eee0-416b-8991-fa92a7271e24\">\n",
              "      Upload widget is only available when the cell has been executed in the\n",
              "      current browser session. Please rerun this cell to enable.\n",
              "      </output>\n",
              "      <script src=\"/nbextensions/google.colab/files.js\"></script> "
            ],
            "text/plain": [
              "<IPython.core.display.HTML object>"
            ]
          },
          "metadata": {
            "tags": []
          }
        },
        {
          "output_type": "stream",
          "text": [
            "Saving kaggle.json to kaggle.json\n"
          ],
          "name": "stdout"
        }
      ]
    },
    {
      "cell_type": "code",
      "metadata": {
        "id": "xVB4I3lztNkj",
        "colab_type": "code",
        "colab": {}
      },
      "source": [
        "!rm -rf ~/.kaggle\n",
        "!mkdir -p ~/.kaggle\n",
        "!cp kaggle.json ~/.kaggle/\n",
        "!chmod 600 /root/.kaggle/kaggle.json"
      ],
      "execution_count": 0,
      "outputs": []
    },
    {
      "cell_type": "code",
      "metadata": {
        "id": "QJ-lr9CBtQfT",
        "colab_type": "code",
        "colab": {}
      },
      "source": [
        "!pip install kaggle"
      ],
      "execution_count": 0,
      "outputs": []
    },
    {
      "cell_type": "code",
      "metadata": {
        "id": "rr8mIHzktTMe",
        "colab_type": "code",
        "colab": {}
      },
      "source": [
        "# Competitionのデータをダウンロード\n",
        "!kaggle competitions download -c m5-forecasting-accuracy"
      ],
      "execution_count": 0,
      "outputs": []
    },
    {
      "cell_type": "code",
      "metadata": {
        "id": "bJDuSXM0u3Q8",
        "colab_type": "code",
        "outputId": "2d08e54d-bcb6-40ca-e6f2-4a921dbdcb2b",
        "colab": {
          "base_uri": "https://localhost:8080/",
          "height": 119
        }
      },
      "source": [
        "!unzip /content/sample_submission.csv.zip\n",
        "!unzip /content/sell_prices.csv.zip\n",
        "!unzip /content/sales_train_validation.csv.zip"
      ],
      "execution_count": 0,
      "outputs": [
        {
          "output_type": "stream",
          "text": [
            "Archive:  /content/sample_submission.csv.zip\n",
            "  inflating: sample_submission.csv   \n",
            "Archive:  /content/sell_prices.csv.zip\n",
            "  inflating: sell_prices.csv         \n",
            "Archive:  /content/sales_train_validation.csv.zip\n",
            "  inflating: sales_train_validation.csv  \n"
          ],
          "name": "stdout"
        }
      ]
    },
    {
      "cell_type": "code",
      "metadata": {
        "id": "-YH0_0KptaE_",
        "colab_type": "code",
        "outputId": "d8894a43-15a8-4d64-c9a3-25049e0d37fe",
        "colab": {
          "base_uri": "https://localhost:8080/",
          "height": 323
        }
      },
      "source": [
        "!apt-get update\n",
        "!apt-get install python-pydot -y --allow-unauthenticated"
      ],
      "execution_count": 66,
      "outputs": [
        {
          "output_type": "stream",
          "text": [
            "\r0% [Working]\r            \rHit:1 https://cloud.r-project.org/bin/linux/ubuntu bionic-cran35/ InRelease\n",
            "\r0% [Connecting to archive.ubuntu.com] [Connecting to security.ubuntu.com] [Wait\r0% [1 InRelease gpgv 3,626 B] [Connecting to archive.ubuntu.com] [Connecting to\r                                                                               \rIgn:2 https://developer.download.nvidia.com/compute/cuda/repos/ubuntu1804/x86_64  InRelease\n",
            "\r0% [1 InRelease gpgv 3,626 B] [Connecting to archive.ubuntu.com] [Connecting to\r0% [Connecting to archive.ubuntu.com] [Connecting to security.ubuntu.com] [Wait\r                                                                               \rIgn:3 https://developer.download.nvidia.com/compute/machine-learning/repos/ubuntu1804/x86_64  InRelease\n",
            "\r0% [Connecting to archive.ubuntu.com (91.189.88.152)] [Connecting to security.u\r                                                                               \rHit:4 https://developer.download.nvidia.com/compute/cuda/repos/ubuntu1804/x86_64  Release\n",
            "\r0% [Connecting to archive.ubuntu.com (91.189.88.152)] [Connecting to security.u\r0% [Release.gpg gpgv 564 B] [Connecting to archive.ubuntu.com (91.189.88.152)] \r                                                                               \rHit:5 https://developer.download.nvidia.com/compute/machine-learning/repos/ubuntu1804/x86_64  Release\n",
            "\r0% [Release.gpg gpgv 564 B] [Connecting to archive.ubuntu.com (91.189.88.152)] \r                                                                               \rHit:6 http://ppa.launchpad.net/graphics-drivers/ppa/ubuntu bionic InRelease\n",
            "\r0% [Release.gpg gpgv 564 B] [Waiting for headers] [Waiting for headers] [Connec\r0% [Waiting for headers] [Waiting for headers] [Connecting to ppa.launchpad.net\r0% [Release.gpg gpgv 564 B] [Waiting for headers] [Waiting for headers] [Connec\r0% [Waiting for headers] [Waiting for headers] [Connecting to ppa.launchpad.net\r0% [6 InRelease gpgv 21.3 kB] [Waiting for headers] [Waiting for headers] [Conn\r                                                                               \rGet:9 http://security.ubuntu.com/ubuntu bionic-security InRelease [88.7 kB]\n",
            "\r0% [6 InRelease gpgv 21.3 kB] [Waiting for headers] [9 InRelease 2,266 B/88.7 k\r                                                                               \rHit:10 http://archive.ubuntu.com/ubuntu bionic InRelease\n",
            "\r0% [6 InRelease gpgv 21.3 kB] [Waiting for headers] [9 InRelease 2,266 B/88.7 k\r0% [Waiting for headers] [9 InRelease 12.6 kB/88.7 kB 14%] [Waiting for headers\r0% [10 InRelease gpgv 242 kB] [Waiting for headers] [9 InRelease 12.6 kB/88.7 k\r                                                                               \rHit:11 http://ppa.launchpad.net/marutter/c2d4u3.5/ubuntu bionic InRelease\n",
            "Get:12 http://archive.ubuntu.com/ubuntu bionic-updates InRelease [88.7 kB]\n",
            "Get:13 http://archive.ubuntu.com/ubuntu bionic-backports InRelease [74.6 kB]\n",
            "Fetched 252 kB in 2s (108 kB/s)\n",
            "Reading package lists... Done\n",
            "Reading package lists... Done\n",
            "Building dependency tree       \n",
            "Reading state information... Done\n",
            "python-pydot is already the newest version (1.2.3-1).\n",
            "0 upgraded, 0 newly installed, 0 to remove and 6 not upgraded.\n"
          ],
          "name": "stdout"
        }
      ]
    },
    {
      "cell_type": "code",
      "metadata": {
        "id": "30IsX_k_VHNQ",
        "colab_type": "code",
        "colab": {}
      },
      "source": [
        "!wget https://www.sqlite.org/src/tarball/sqlite.tar.gz?r=release -O sqlite.tar.gz\n",
        "!tar xzf sqlite.tar.gz\n",
        "%cd sqlite/\n",
        "!./configure\n",
        "!make sqlite3.c\n",
        "%cd /content\n",
        "!npx degit coleifer/pysqlite3 -f\n",
        "!cp sqlite/sqlite3.[ch] .\n",
        "!python setup.py build_static build\n",
        "!cp build/lib.linux-x86_64-3.6/pysqlite3/_sqlite3.cpython-36m-x86_64-linux-gnu.so \\\n",
        "    /usr/lib/python3.6/lib-dynload/_sqlite3.cpython-36m-x86_64-linux-gnu.so"
      ],
      "execution_count": 0,
      "outputs": []
    },
    {
      "cell_type": "code",
      "metadata": {
        "id": "Ed4N7fJ9tclm",
        "colab_type": "code",
        "colab": {}
      },
      "source": [
        "# ライブラリのロード\n",
        "import pandas as pd\n",
        "import numpy as np\n",
        "import matplotlib.pyplot as plt\n",
        "import seaborn as sns\n",
        "from sklearn.datasets import load_boston\n",
        "from IPython.display import display, Image, display_png\n",
        "import io"
      ],
      "execution_count": 0,
      "outputs": []
    },
    {
      "cell_type": "code",
      "metadata": {
        "id": "Jl0NXXA9tfbb",
        "colab_type": "code",
        "colab": {}
      },
      "source": [
        "# ローカルのファイルをロード\n",
        "pd.set_option('display.max_columns', 200)\n",
        "#sales_train = pd.read_csv('/content/sales_train_validation.csv')\n",
        "calender = pd.read_csv('/content/calendar.csv')\n",
        "#submission = pd.read_csv('/content/sample_submission.csv')\n",
        "#prices = pd.read_csv('/content/sell_prices.csv')\n",
        "#evaluation = pd.read_csv('/content/sales_train_evaluation.csv')\n"
      ],
      "execution_count": 0,
      "outputs": []
    },
    {
      "cell_type": "markdown",
      "metadata": {
        "id": "nPzdpuarAvhY",
        "colab_type": "text"
      },
      "source": [
        "## calenderの分析"
      ]
    },
    {
      "cell_type": "code",
      "metadata": {
        "id": "qdyGowLjzRxF",
        "colab_type": "code",
        "outputId": "cfd25647-ef62-4c74-e198-1bcd095ad282",
        "colab": {
          "base_uri": "https://localhost:8080/",
          "height": 204
        }
      },
      "source": [
        "calender.head()"
      ],
      "execution_count": 73,
      "outputs": [
        {
          "output_type": "execute_result",
          "data": {
            "text/html": [
              "<div>\n",
              "<style scoped>\n",
              "    .dataframe tbody tr th:only-of-type {\n",
              "        vertical-align: middle;\n",
              "    }\n",
              "\n",
              "    .dataframe tbody tr th {\n",
              "        vertical-align: top;\n",
              "    }\n",
              "\n",
              "    .dataframe thead th {\n",
              "        text-align: right;\n",
              "    }\n",
              "</style>\n",
              "<table border=\"1\" class=\"dataframe\">\n",
              "  <thead>\n",
              "    <tr style=\"text-align: right;\">\n",
              "      <th></th>\n",
              "      <th>date</th>\n",
              "      <th>wm_yr_wk</th>\n",
              "      <th>weekday</th>\n",
              "      <th>wday</th>\n",
              "      <th>month</th>\n",
              "      <th>year</th>\n",
              "      <th>d</th>\n",
              "      <th>event_name_1</th>\n",
              "      <th>event_type_1</th>\n",
              "      <th>event_name_2</th>\n",
              "      <th>event_type_2</th>\n",
              "      <th>snap_CA</th>\n",
              "      <th>snap_TX</th>\n",
              "      <th>snap_WI</th>\n",
              "    </tr>\n",
              "  </thead>\n",
              "  <tbody>\n",
              "    <tr>\n",
              "      <th>0</th>\n",
              "      <td>2011-01-29</td>\n",
              "      <td>11101</td>\n",
              "      <td>Saturday</td>\n",
              "      <td>1</td>\n",
              "      <td>1</td>\n",
              "      <td>2011</td>\n",
              "      <td>d_1</td>\n",
              "      <td>NaN</td>\n",
              "      <td>NaN</td>\n",
              "      <td>NaN</td>\n",
              "      <td>NaN</td>\n",
              "      <td>0</td>\n",
              "      <td>0</td>\n",
              "      <td>0</td>\n",
              "    </tr>\n",
              "    <tr>\n",
              "      <th>1</th>\n",
              "      <td>2011-01-30</td>\n",
              "      <td>11101</td>\n",
              "      <td>Sunday</td>\n",
              "      <td>2</td>\n",
              "      <td>1</td>\n",
              "      <td>2011</td>\n",
              "      <td>d_2</td>\n",
              "      <td>NaN</td>\n",
              "      <td>NaN</td>\n",
              "      <td>NaN</td>\n",
              "      <td>NaN</td>\n",
              "      <td>0</td>\n",
              "      <td>0</td>\n",
              "      <td>0</td>\n",
              "    </tr>\n",
              "    <tr>\n",
              "      <th>2</th>\n",
              "      <td>2011-01-31</td>\n",
              "      <td>11101</td>\n",
              "      <td>Monday</td>\n",
              "      <td>3</td>\n",
              "      <td>1</td>\n",
              "      <td>2011</td>\n",
              "      <td>d_3</td>\n",
              "      <td>NaN</td>\n",
              "      <td>NaN</td>\n",
              "      <td>NaN</td>\n",
              "      <td>NaN</td>\n",
              "      <td>0</td>\n",
              "      <td>0</td>\n",
              "      <td>0</td>\n",
              "    </tr>\n",
              "    <tr>\n",
              "      <th>3</th>\n",
              "      <td>2011-02-01</td>\n",
              "      <td>11101</td>\n",
              "      <td>Tuesday</td>\n",
              "      <td>4</td>\n",
              "      <td>2</td>\n",
              "      <td>2011</td>\n",
              "      <td>d_4</td>\n",
              "      <td>NaN</td>\n",
              "      <td>NaN</td>\n",
              "      <td>NaN</td>\n",
              "      <td>NaN</td>\n",
              "      <td>1</td>\n",
              "      <td>1</td>\n",
              "      <td>0</td>\n",
              "    </tr>\n",
              "    <tr>\n",
              "      <th>4</th>\n",
              "      <td>2011-02-02</td>\n",
              "      <td>11101</td>\n",
              "      <td>Wednesday</td>\n",
              "      <td>5</td>\n",
              "      <td>2</td>\n",
              "      <td>2011</td>\n",
              "      <td>d_5</td>\n",
              "      <td>NaN</td>\n",
              "      <td>NaN</td>\n",
              "      <td>NaN</td>\n",
              "      <td>NaN</td>\n",
              "      <td>1</td>\n",
              "      <td>0</td>\n",
              "      <td>1</td>\n",
              "    </tr>\n",
              "  </tbody>\n",
              "</table>\n",
              "</div>"
            ],
            "text/plain": [
              "         date  wm_yr_wk    weekday  wday  month  year    d event_name_1  \\\n",
              "0  2011-01-29     11101   Saturday     1      1  2011  d_1          NaN   \n",
              "1  2011-01-30     11101     Sunday     2      1  2011  d_2          NaN   \n",
              "2  2011-01-31     11101     Monday     3      1  2011  d_3          NaN   \n",
              "3  2011-02-01     11101    Tuesday     4      2  2011  d_4          NaN   \n",
              "4  2011-02-02     11101  Wednesday     5      2  2011  d_5          NaN   \n",
              "\n",
              "  event_type_1 event_name_2 event_type_2  snap_CA  snap_TX  snap_WI  \n",
              "0          NaN          NaN          NaN        0        0        0  \n",
              "1          NaN          NaN          NaN        0        0        0  \n",
              "2          NaN          NaN          NaN        0        0        0  \n",
              "3          NaN          NaN          NaN        1        1        0  \n",
              "4          NaN          NaN          NaN        1        0        1  "
            ]
          },
          "metadata": {
            "tags": []
          },
          "execution_count": 73
        }
      ]
    },
    {
      "cell_type": "code",
      "metadata": {
        "id": "hM0b6IIUIOR_",
        "colab_type": "code",
        "colab": {}
      },
      "source": [
        "# event1, event2を集約する\n",
        "event1 = calender.loc[ : , ['year','date','event_type_1','event_name_1']].rename(columns={'event_type_1': 'event_type','event_name_1': 'event_name'}).dropna()\n",
        "event2 = calender.loc[ : , ['year','date','event_type_2','event_name_2']].rename(columns={'event_type_2': 'event_type','event_name_2': 'event_name'}).dropna()\n",
        "events = event1.append(event2)"
      ],
      "execution_count": 0,
      "outputs": []
    },
    {
      "cell_type": "code",
      "metadata": {
        "id": "QpwV7iYMjbv0",
        "colab_type": "code",
        "outputId": "074ee3e8-b567-43ed-8189-2213043a631b",
        "colab": {
          "base_uri": "https://localhost:8080/",
          "height": 450
        }
      },
      "source": [
        "uniqEvents=events.groupby(['event_name','year','date']).count()\n",
        "display(uniqEvents)"
      ],
      "execution_count": 75,
      "outputs": [
        {
          "output_type": "display_data",
          "data": {
            "text/html": [
              "<div>\n",
              "<style scoped>\n",
              "    .dataframe tbody tr th:only-of-type {\n",
              "        vertical-align: middle;\n",
              "    }\n",
              "\n",
              "    .dataframe tbody tr th {\n",
              "        vertical-align: top;\n",
              "    }\n",
              "\n",
              "    .dataframe thead th {\n",
              "        text-align: right;\n",
              "    }\n",
              "</style>\n",
              "<table border=\"1\" class=\"dataframe\">\n",
              "  <thead>\n",
              "    <tr style=\"text-align: right;\">\n",
              "      <th></th>\n",
              "      <th></th>\n",
              "      <th></th>\n",
              "      <th>event_type</th>\n",
              "    </tr>\n",
              "    <tr>\n",
              "      <th>event_name</th>\n",
              "      <th>year</th>\n",
              "      <th>date</th>\n",
              "      <th></th>\n",
              "    </tr>\n",
              "  </thead>\n",
              "  <tbody>\n",
              "    <tr>\n",
              "      <th rowspan=\"5\" valign=\"top\">Chanukah End</th>\n",
              "      <th>2011</th>\n",
              "      <th>2011-12-28</th>\n",
              "      <td>1</td>\n",
              "    </tr>\n",
              "    <tr>\n",
              "      <th>2012</th>\n",
              "      <th>2012-12-16</th>\n",
              "      <td>1</td>\n",
              "    </tr>\n",
              "    <tr>\n",
              "      <th>2013</th>\n",
              "      <th>2013-12-05</th>\n",
              "      <td>1</td>\n",
              "    </tr>\n",
              "    <tr>\n",
              "      <th>2014</th>\n",
              "      <th>2014-12-24</th>\n",
              "      <td>1</td>\n",
              "    </tr>\n",
              "    <tr>\n",
              "      <th>2015</th>\n",
              "      <th>2015-12-14</th>\n",
              "      <td>1</td>\n",
              "    </tr>\n",
              "    <tr>\n",
              "      <th>...</th>\n",
              "      <th>...</th>\n",
              "      <th>...</th>\n",
              "      <td>...</td>\n",
              "    </tr>\n",
              "    <tr>\n",
              "      <th rowspan=\"5\" valign=\"top\">VeteransDay</th>\n",
              "      <th>2011</th>\n",
              "      <th>2011-11-11</th>\n",
              "      <td>1</td>\n",
              "    </tr>\n",
              "    <tr>\n",
              "      <th>2012</th>\n",
              "      <th>2012-11-11</th>\n",
              "      <td>1</td>\n",
              "    </tr>\n",
              "    <tr>\n",
              "      <th>2013</th>\n",
              "      <th>2013-11-11</th>\n",
              "      <td>1</td>\n",
              "    </tr>\n",
              "    <tr>\n",
              "      <th>2014</th>\n",
              "      <th>2014-11-11</th>\n",
              "      <td>1</td>\n",
              "    </tr>\n",
              "    <tr>\n",
              "      <th>2015</th>\n",
              "      <th>2015-11-11</th>\n",
              "      <td>1</td>\n",
              "    </tr>\n",
              "  </tbody>\n",
              "</table>\n",
              "<p>167 rows × 1 columns</p>\n",
              "</div>"
            ],
            "text/plain": [
              "                              event_type\n",
              "event_name   year date                  \n",
              "Chanukah End 2011 2011-12-28           1\n",
              "             2012 2012-12-16           1\n",
              "             2013 2013-12-05           1\n",
              "             2014 2014-12-24           1\n",
              "             2015 2015-12-14           1\n",
              "...                                  ...\n",
              "VeteransDay  2011 2011-11-11           1\n",
              "             2012 2012-11-11           1\n",
              "             2013 2013-11-11           1\n",
              "             2014 2014-11-11           1\n",
              "             2015 2015-11-11           1\n",
              "\n",
              "[167 rows x 1 columns]"
            ]
          },
          "metadata": {
            "tags": []
          }
        }
      ]
    },
    {
      "cell_type": "code",
      "metadata": {
        "id": "lma3396fC9JN",
        "colab_type": "code",
        "colab": {}
      },
      "source": [
        "uniqEvents.to_csv('/content/cal_events.csv')"
      ],
      "execution_count": 0,
      "outputs": []
    },
    {
      "cell_type": "code",
      "metadata": {
        "id": "UuotdMBILyu3",
        "colab_type": "code",
        "colab": {
          "resources": {
            "http://localhost:8080/nbextensions/google.colab/files.js": {
              "data": "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",
              "ok": true,
              "headers": [
                [
                  "content-type",
                  "application/javascript"
                ]
              ],
              "status": 200,
              "status_text": ""
            }
          },
          "base_uri": "https://localhost:8080/",
          "height": 37
        },
        "outputId": "24698799-6c2f-4ab6-ccaa-f6a82ef12e31"
      },
      "source": [
        "# 手ゴネで作成したevents.csvをロード\n",
        "#url = 'https://github.com/THashiz/m5-ia/blob/master/events.csv'\n",
        "uploaded = files.upload()"
      ],
      "execution_count": 77,
      "outputs": [
        {
          "output_type": "display_data",
          "data": {
            "text/html": [
              "\n",
              "     <input type=\"file\" id=\"files-6f70adb7-0e5c-4195-820e-cfa4d8e33374\" name=\"files[]\" multiple disabled />\n",
              "     <output id=\"result-6f70adb7-0e5c-4195-820e-cfa4d8e33374\">\n",
              "      Upload widget is only available when the cell has been executed in the\n",
              "      current browser session. Please rerun this cell to enable.\n",
              "      </output>\n",
              "      <script src=\"/nbextensions/google.colab/files.js\"></script> "
            ],
            "text/plain": [
              "<IPython.core.display.HTML object>"
            ]
          },
          "metadata": {
            "tags": []
          }
        }
      ]
    },
    {
      "cell_type": "code",
      "metadata": {
        "id": "m1vYbED1MPGF",
        "colab_type": "code",
        "colab": {}
      },
      "source": [
        "events = pd.read_csv('/content/events.csv')"
      ],
      "execution_count": 0,
      "outputs": []
    },
    {
      "cell_type": "code",
      "metadata": {
        "id": "NEdHOdy9PNRM",
        "colab_type": "code",
        "outputId": "b777aa27-3835-4dee-f36d-0a32f5c86691",
        "colab": {
          "base_uri": "https://localhost:8080/",
          "height": 204
        }
      },
      "source": [
        "events.head()"
      ],
      "execution_count": 79,
      "outputs": [
        {
          "output_type": "execute_result",
          "data": {
            "text/html": [
              "<div>\n",
              "<style scoped>\n",
              "    .dataframe tbody tr th:only-of-type {\n",
              "        vertical-align: middle;\n",
              "    }\n",
              "\n",
              "    .dataframe tbody tr th {\n",
              "        vertical-align: top;\n",
              "    }\n",
              "\n",
              "    .dataframe thead th {\n",
              "        text-align: right;\n",
              "    }\n",
              "</style>\n",
              "<table border=\"1\" class=\"dataframe\">\n",
              "  <thead>\n",
              "    <tr style=\"text-align: right;\">\n",
              "      <th></th>\n",
              "      <th>org_event_name</th>\n",
              "      <th>year</th>\n",
              "      <th>date</th>\n",
              "      <th>event_name</th>\n",
              "      <th>from</th>\n",
              "      <th>to</th>\n",
              "    </tr>\n",
              "  </thead>\n",
              "  <tbody>\n",
              "    <tr>\n",
              "      <th>0</th>\n",
              "      <td>Chanukah End</td>\n",
              "      <td>2011</td>\n",
              "      <td>2011-12-28</td>\n",
              "      <td>Chanukah</td>\n",
              "      <td>2011-12-20</td>\n",
              "      <td>2011-12-28</td>\n",
              "    </tr>\n",
              "    <tr>\n",
              "      <th>1</th>\n",
              "      <td>Chanukah End</td>\n",
              "      <td>2012</td>\n",
              "      <td>2012-12-16</td>\n",
              "      <td>Chanukah</td>\n",
              "      <td>2012-12-08</td>\n",
              "      <td>2012-12-16</td>\n",
              "    </tr>\n",
              "    <tr>\n",
              "      <th>2</th>\n",
              "      <td>Chanukah End</td>\n",
              "      <td>2013</td>\n",
              "      <td>2013-12-05</td>\n",
              "      <td>Chanukah</td>\n",
              "      <td>2013-11-27</td>\n",
              "      <td>2013-12-05</td>\n",
              "    </tr>\n",
              "    <tr>\n",
              "      <th>3</th>\n",
              "      <td>Chanukah End</td>\n",
              "      <td>2014</td>\n",
              "      <td>2014-12-24</td>\n",
              "      <td>Chanukah</td>\n",
              "      <td>2014-12-16</td>\n",
              "      <td>2014-12-24</td>\n",
              "    </tr>\n",
              "    <tr>\n",
              "      <th>4</th>\n",
              "      <td>Chanukah End</td>\n",
              "      <td>2015</td>\n",
              "      <td>2015-12-14</td>\n",
              "      <td>Chanukah</td>\n",
              "      <td>2015-12-06</td>\n",
              "      <td>2015-12-14</td>\n",
              "    </tr>\n",
              "  </tbody>\n",
              "</table>\n",
              "</div>"
            ],
            "text/plain": [
              "  org_event_name  year        date event_name        from          to\n",
              "0   Chanukah End  2011  2011-12-28   Chanukah  2011-12-20  2011-12-28\n",
              "1   Chanukah End  2012  2012-12-16   Chanukah  2012-12-08  2012-12-16\n",
              "2   Chanukah End  2013  2013-12-05   Chanukah  2013-11-27  2013-12-05\n",
              "3   Chanukah End  2014  2014-12-24   Chanukah  2014-12-16  2014-12-24\n",
              "4   Chanukah End  2015  2015-12-14   Chanukah  2015-12-06  2015-12-14"
            ]
          },
          "metadata": {
            "tags": []
          },
          "execution_count": 79
        }
      ]
    },
    {
      "cell_type": "code",
      "metadata": {
        "id": "yUmHgpyYSNmm",
        "colab_type": "code",
        "colab": {}
      },
      "source": [
        "event_type1 = calender.loc[ : , ['event_type_1','event_name_1']].rename(columns={'event_type_1': 'event_type','event_name_1': 'org_event_name'}).dropna()\n",
        "event_type2 = calender.loc[ : , ['event_type_2','event_name_2']].rename(columns={'event_type_2': 'event_type','event_name_2': 'org_event_name'}).dropna()\n",
        "event_types= event_type1.append(event_type2).drop_duplicates()\n",
        "\n",
        "add_type = pd.merge(events, event_types, on='org_event_name')"
      ],
      "execution_count": 0,
      "outputs": []
    },
    {
      "cell_type": "code",
      "metadata": {
        "id": "Qxwlz94fPcqf",
        "colab_type": "code",
        "colab": {}
      },
      "source": [
        "new_events = add_type.loc[ : , ['event_type','event_name','year','from','to']].rename(columns={'from': 'from_day','to': 'to_day'}).dropna()"
      ],
      "execution_count": 0,
      "outputs": []
    },
    {
      "cell_type": "code",
      "metadata": {
        "id": "cIt_7a9EVONR",
        "colab_type": "code",
        "outputId": "8901b39b-0679-404a-e2b1-b09afe6f56ef",
        "colab": {
          "base_uri": "https://localhost:8080/",
          "height": 419
        }
      },
      "source": [
        "display(new_events)"
      ],
      "execution_count": 82,
      "outputs": [
        {
          "output_type": "display_data",
          "data": {
            "text/html": [
              "<div>\n",
              "<style scoped>\n",
              "    .dataframe tbody tr th:only-of-type {\n",
              "        vertical-align: middle;\n",
              "    }\n",
              "\n",
              "    .dataframe tbody tr th {\n",
              "        vertical-align: top;\n",
              "    }\n",
              "\n",
              "    .dataframe thead th {\n",
              "        text-align: right;\n",
              "    }\n",
              "</style>\n",
              "<table border=\"1\" class=\"dataframe\">\n",
              "  <thead>\n",
              "    <tr style=\"text-align: right;\">\n",
              "      <th></th>\n",
              "      <th>event_type</th>\n",
              "      <th>event_name</th>\n",
              "      <th>year</th>\n",
              "      <th>from_day</th>\n",
              "      <th>to_day</th>\n",
              "    </tr>\n",
              "  </thead>\n",
              "  <tbody>\n",
              "    <tr>\n",
              "      <th>0</th>\n",
              "      <td>Religious</td>\n",
              "      <td>Chanukah</td>\n",
              "      <td>2011</td>\n",
              "      <td>2011-12-20</td>\n",
              "      <td>2011-12-28</td>\n",
              "    </tr>\n",
              "    <tr>\n",
              "      <th>1</th>\n",
              "      <td>Religious</td>\n",
              "      <td>Chanukah</td>\n",
              "      <td>2012</td>\n",
              "      <td>2012-12-08</td>\n",
              "      <td>2012-12-16</td>\n",
              "    </tr>\n",
              "    <tr>\n",
              "      <th>2</th>\n",
              "      <td>Religious</td>\n",
              "      <td>Chanukah</td>\n",
              "      <td>2013</td>\n",
              "      <td>2013-11-27</td>\n",
              "      <td>2013-12-05</td>\n",
              "    </tr>\n",
              "    <tr>\n",
              "      <th>3</th>\n",
              "      <td>Religious</td>\n",
              "      <td>Chanukah</td>\n",
              "      <td>2014</td>\n",
              "      <td>2014-12-16</td>\n",
              "      <td>2014-12-24</td>\n",
              "    </tr>\n",
              "    <tr>\n",
              "      <th>4</th>\n",
              "      <td>Religious</td>\n",
              "      <td>Chanukah</td>\n",
              "      <td>2015</td>\n",
              "      <td>2015-12-06</td>\n",
              "      <td>2015-12-14</td>\n",
              "    </tr>\n",
              "    <tr>\n",
              "      <th>...</th>\n",
              "      <td>...</td>\n",
              "      <td>...</td>\n",
              "      <td>...</td>\n",
              "      <td>...</td>\n",
              "      <td>...</td>\n",
              "    </tr>\n",
              "    <tr>\n",
              "      <th>162</th>\n",
              "      <td>National</td>\n",
              "      <td>VeteransDay</td>\n",
              "      <td>2011</td>\n",
              "      <td>2011-11-11</td>\n",
              "      <td>2011-11-11</td>\n",
              "    </tr>\n",
              "    <tr>\n",
              "      <th>163</th>\n",
              "      <td>National</td>\n",
              "      <td>VeteransDay</td>\n",
              "      <td>2012</td>\n",
              "      <td>2012-11-11</td>\n",
              "      <td>2012-11-11</td>\n",
              "    </tr>\n",
              "    <tr>\n",
              "      <th>164</th>\n",
              "      <td>National</td>\n",
              "      <td>VeteransDay</td>\n",
              "      <td>2013</td>\n",
              "      <td>2013-11-11</td>\n",
              "      <td>2013-11-11</td>\n",
              "    </tr>\n",
              "    <tr>\n",
              "      <th>165</th>\n",
              "      <td>National</td>\n",
              "      <td>VeteransDay</td>\n",
              "      <td>2014</td>\n",
              "      <td>2014-11-11</td>\n",
              "      <td>2014-11-11</td>\n",
              "    </tr>\n",
              "    <tr>\n",
              "      <th>166</th>\n",
              "      <td>National</td>\n",
              "      <td>VeteransDay</td>\n",
              "      <td>2015</td>\n",
              "      <td>2015-11-11</td>\n",
              "      <td>2015-11-11</td>\n",
              "    </tr>\n",
              "  </tbody>\n",
              "</table>\n",
              "<p>155 rows × 5 columns</p>\n",
              "</div>"
            ],
            "text/plain": [
              "    event_type   event_name  year    from_day      to_day\n",
              "0    Religious     Chanukah  2011  2011-12-20  2011-12-28\n",
              "1    Religious     Chanukah  2012  2012-12-08  2012-12-16\n",
              "2    Religious     Chanukah  2013  2013-11-27  2013-12-05\n",
              "3    Religious     Chanukah  2014  2014-12-16  2014-12-24\n",
              "4    Religious     Chanukah  2015  2015-12-06  2015-12-14\n",
              "..         ...          ...   ...         ...         ...\n",
              "162   National  VeteransDay  2011  2011-11-11  2011-11-11\n",
              "163   National  VeteransDay  2012  2012-11-11  2012-11-11\n",
              "164   National  VeteransDay  2013  2013-11-11  2013-11-11\n",
              "165   National  VeteransDay  2014  2014-11-11  2014-11-11\n",
              "166   National  VeteransDay  2015  2015-11-11  2015-11-11\n",
              "\n",
              "[155 rows x 5 columns]"
            ]
          },
          "metadata": {
            "tags": []
          }
        }
      ]
    },
    {
      "cell_type": "code",
      "metadata": {
        "id": "8s4MKwJ9ZKWS",
        "colab_type": "code",
        "colab": {}
      },
      "source": [
        "tmp_calendar = calender.loc[ : , ['date']].dropna()"
      ],
      "execution_count": 0,
      "outputs": []
    },
    {
      "cell_type": "code",
      "metadata": {
        "id": "YLHFuRXEkCNN",
        "colab_type": "code",
        "outputId": "2a8b8476-ca1b-45b1-878d-a7fa245899e8",
        "colab": {
          "base_uri": "https://localhost:8080/",
          "height": 419
        }
      },
      "source": [
        "display(tmp_calendar)"
      ],
      "execution_count": 84,
      "outputs": [
        {
          "output_type": "display_data",
          "data": {
            "text/html": [
              "<div>\n",
              "<style scoped>\n",
              "    .dataframe tbody tr th:only-of-type {\n",
              "        vertical-align: middle;\n",
              "    }\n",
              "\n",
              "    .dataframe tbody tr th {\n",
              "        vertical-align: top;\n",
              "    }\n",
              "\n",
              "    .dataframe thead th {\n",
              "        text-align: right;\n",
              "    }\n",
              "</style>\n",
              "<table border=\"1\" class=\"dataframe\">\n",
              "  <thead>\n",
              "    <tr style=\"text-align: right;\">\n",
              "      <th></th>\n",
              "      <th>date</th>\n",
              "    </tr>\n",
              "  </thead>\n",
              "  <tbody>\n",
              "    <tr>\n",
              "      <th>0</th>\n",
              "      <td>2011-01-29</td>\n",
              "    </tr>\n",
              "    <tr>\n",
              "      <th>1</th>\n",
              "      <td>2011-01-30</td>\n",
              "    </tr>\n",
              "    <tr>\n",
              "      <th>2</th>\n",
              "      <td>2011-01-31</td>\n",
              "    </tr>\n",
              "    <tr>\n",
              "      <th>3</th>\n",
              "      <td>2011-02-01</td>\n",
              "    </tr>\n",
              "    <tr>\n",
              "      <th>4</th>\n",
              "      <td>2011-02-02</td>\n",
              "    </tr>\n",
              "    <tr>\n",
              "      <th>...</th>\n",
              "      <td>...</td>\n",
              "    </tr>\n",
              "    <tr>\n",
              "      <th>1964</th>\n",
              "      <td>2016-06-15</td>\n",
              "    </tr>\n",
              "    <tr>\n",
              "      <th>1965</th>\n",
              "      <td>2016-06-16</td>\n",
              "    </tr>\n",
              "    <tr>\n",
              "      <th>1966</th>\n",
              "      <td>2016-06-17</td>\n",
              "    </tr>\n",
              "    <tr>\n",
              "      <th>1967</th>\n",
              "      <td>2016-06-18</td>\n",
              "    </tr>\n",
              "    <tr>\n",
              "      <th>1968</th>\n",
              "      <td>2016-06-19</td>\n",
              "    </tr>\n",
              "  </tbody>\n",
              "</table>\n",
              "<p>1969 rows × 1 columns</p>\n",
              "</div>"
            ],
            "text/plain": [
              "            date\n",
              "0     2011-01-29\n",
              "1     2011-01-30\n",
              "2     2011-01-31\n",
              "3     2011-02-01\n",
              "4     2011-02-02\n",
              "...          ...\n",
              "1964  2016-06-15\n",
              "1965  2016-06-16\n",
              "1966  2016-06-17\n",
              "1967  2016-06-18\n",
              "1968  2016-06-19\n",
              "\n",
              "[1969 rows x 1 columns]"
            ]
          },
          "metadata": {
            "tags": []
          }
        }
      ]
    },
    {
      "cell_type": "code",
      "metadata": {
        "id": "uKnMSX9NZiHU",
        "colab_type": "code",
        "colab": {
          "base_uri": "https://localhost:8080/",
          "height": 34
        },
        "outputId": "1aba687b-ff97-401f-a50c-79503cba6498"
      },
      "source": [
        "import sqlite3\n",
        "drive_path = '/content/cal.db'\n",
        "conn = sqlite3.connect(drive_path)\n",
        "sqlite3.sqlite_version"
      ],
      "execution_count": 4,
      "outputs": [
        {
          "output_type": "execute_result",
          "data": {
            "text/plain": [
              "'3.31.1'"
            ]
          },
          "metadata": {
            "tags": []
          },
          "execution_count": 4
        }
      ]
    },
    {
      "cell_type": "code",
      "metadata": {
        "id": "2NRtO71Vja7h",
        "colab_type": "code",
        "colab": {}
      },
      "source": [
        "tmp_calendar.to_sql('tmp_calendar', conn, schema=None, if_exists='replace', index=False)"
      ],
      "execution_count": 0,
      "outputs": []
    },
    {
      "cell_type": "code",
      "metadata": {
        "id": "8wHyiuP8jd-_",
        "colab_type": "code",
        "colab": {}
      },
      "source": [
        "new_events.to_sql('new_events', conn, schema=None, if_exists='replace', index=False)"
      ],
      "execution_count": 0,
      "outputs": []
    },
    {
      "cell_type": "code",
      "metadata": {
        "id": "3wmimNoqiRPM",
        "colab_type": "code",
        "colab": {}
      },
      "source": [
        "# event_type毎にイベント日にフラグを立てる。イベントが重複しても1となる。\n",
        "qry = '''\n",
        "    select \n",
        "        date,\n",
        "        case when Cultural > 0  then 1 else 0 end as Cultural,\n",
        "        case when National > 0  then 1 else 0 end as National,\n",
        "        case when Religious > 0 then 1 else 0 end as Religious,\n",
        "        case when Sporting > 0  then 1 else 0 end as Sporting\n",
        "    from (\n",
        "    select\n",
        "        date,\n",
        "        sum(Cultural) Cultural,\n",
        "        sum(National) National,\n",
        "        sum(Religious) Religious,\n",
        "        sum(Sporting) Sporting\n",
        "    from (\n",
        "    select  \n",
        "        tmp_calendar.date,\n",
        "        case when new_events.event_type = 'Cultural'  then 1 else 0 end as Cultural,\n",
        "        case when new_events.event_type = 'National'  then 1 else 0 end as National,\n",
        "        case when new_events.event_type = 'Religious' then 1 else 0 end as Religious,\n",
        "        case when new_events.event_type = 'Sporting'  then 1 else 0 end as Sporting\n",
        "    from tmp_calendar  \n",
        "    left outer join new_events\n",
        "     on \n",
        "        tmp_calendar.date between new_events.from_day and new_events.to_day\n",
        "    )\n",
        "    group by date\n",
        "    order by date\n",
        "    )\n",
        "    '''\n",
        "event_type_calendar = pd.read_sql_query(qry, conn)"
      ],
      "execution_count": 0,
      "outputs": []
    },
    {
      "cell_type": "code",
      "metadata": {
        "id": "9fCzgWsNs4yU",
        "colab_type": "code",
        "outputId": "9119b254-2400-4395-e14d-ecc0ddc57a93",
        "colab": {
          "base_uri": "https://localhost:8080/",
          "height": 119
        }
      },
      "source": [
        "event_type_calendar.count()"
      ],
      "execution_count": 89,
      "outputs": [
        {
          "output_type": "execute_result",
          "data": {
            "text/plain": [
              "date         1969\n",
              "Cultural     1969\n",
              "National     1969\n",
              "Religious    1969\n",
              "Sporting     1969\n",
              "dtype: int64"
            ]
          },
          "metadata": {
            "tags": []
          },
          "execution_count": 89
        }
      ]
    },
    {
      "cell_type": "code",
      "metadata": {
        "id": "YZTxAuZakY0o",
        "colab_type": "code",
        "outputId": "19796d36-7ebd-4276-8c89-7de5931dd244",
        "colab": {
          "base_uri": "https://localhost:8080/",
          "height": 204
        }
      },
      "source": [
        "event_type_calendar.head()"
      ],
      "execution_count": 90,
      "outputs": [
        {
          "output_type": "execute_result",
          "data": {
            "text/html": [
              "<div>\n",
              "<style scoped>\n",
              "    .dataframe tbody tr th:only-of-type {\n",
              "        vertical-align: middle;\n",
              "    }\n",
              "\n",
              "    .dataframe tbody tr th {\n",
              "        vertical-align: top;\n",
              "    }\n",
              "\n",
              "    .dataframe thead th {\n",
              "        text-align: right;\n",
              "    }\n",
              "</style>\n",
              "<table border=\"1\" class=\"dataframe\">\n",
              "  <thead>\n",
              "    <tr style=\"text-align: right;\">\n",
              "      <th></th>\n",
              "      <th>date</th>\n",
              "      <th>Cultural</th>\n",
              "      <th>National</th>\n",
              "      <th>Religious</th>\n",
              "      <th>Sporting</th>\n",
              "    </tr>\n",
              "  </thead>\n",
              "  <tbody>\n",
              "    <tr>\n",
              "      <th>0</th>\n",
              "      <td>2011-01-29</td>\n",
              "      <td>0</td>\n",
              "      <td>0</td>\n",
              "      <td>0</td>\n",
              "      <td>0</td>\n",
              "    </tr>\n",
              "    <tr>\n",
              "      <th>1</th>\n",
              "      <td>2011-01-30</td>\n",
              "      <td>0</td>\n",
              "      <td>0</td>\n",
              "      <td>0</td>\n",
              "      <td>0</td>\n",
              "    </tr>\n",
              "    <tr>\n",
              "      <th>2</th>\n",
              "      <td>2011-01-31</td>\n",
              "      <td>0</td>\n",
              "      <td>0</td>\n",
              "      <td>0</td>\n",
              "      <td>0</td>\n",
              "    </tr>\n",
              "    <tr>\n",
              "      <th>3</th>\n",
              "      <td>2011-02-01</td>\n",
              "      <td>0</td>\n",
              "      <td>0</td>\n",
              "      <td>0</td>\n",
              "      <td>0</td>\n",
              "    </tr>\n",
              "    <tr>\n",
              "      <th>4</th>\n",
              "      <td>2011-02-02</td>\n",
              "      <td>0</td>\n",
              "      <td>0</td>\n",
              "      <td>0</td>\n",
              "      <td>0</td>\n",
              "    </tr>\n",
              "  </tbody>\n",
              "</table>\n",
              "</div>"
            ],
            "text/plain": [
              "         date  Cultural  National  Religious  Sporting\n",
              "0  2011-01-29         0         0          0         0\n",
              "1  2011-01-30         0         0          0         0\n",
              "2  2011-01-31         0         0          0         0\n",
              "3  2011-02-01         0         0          0         0\n",
              "4  2011-02-02         0         0          0         0"
            ]
          },
          "metadata": {
            "tags": []
          },
          "execution_count": 90
        }
      ]
    },
    {
      "cell_type": "code",
      "metadata": {
        "id": "wxteYzVoQOZm",
        "colab_type": "code",
        "colab": {}
      },
      "source": [
        "# 保存\n",
        "event_type_calendar.to_csv('/content/event_type_calendar.csv')"
      ],
      "execution_count": 0,
      "outputs": []
    },
    {
      "cell_type": "code",
      "metadata": {
        "id": "kVphE2JUZgIB",
        "colab_type": "code",
        "colab": {}
      },
      "source": [
        "# event_type毎にイベント日にフラグを立てる。イベントが重複しても1となる。\n",
        "qry = '''\n",
        "    select\n",
        "        date,\n",
        "        sum(Chanukah) as Chanukah,\n",
        "        sum(Christmas) as Christmas,\n",
        "        sum(CincoDeMayo) as CincoDeMayo,\n",
        "        sum(ColumbusDay) as ColumbusDay,\n",
        "        sum(Easter) as Easter,\n",
        "        sum(EidAlFitr) as EidAlFitr,\n",
        "        sum(EidAlAdha) as EidAlAdha,\n",
        "        sum(FathersDay) as FathersDay,\n",
        "        sum(Halloween) as Halloween,\n",
        "        sum(IndependenceDay) as IndependenceDay,\n",
        "        sum(LaborDay) as LaborDay,\n",
        "        sum(Lent) as Lent,\n",
        "        sum(MartinLutherKingDay) as MartinLutherKingDay,\n",
        "        sum(MemorialDay) as MemorialDay,\n",
        "        sum(MothersDay) as MothersDay,\n",
        "        sum(NBAFinal) as NBAFinal,\n",
        "        sum(NewYear) as NewYear,\n",
        "        sum(OrthodoxChristmas) as OrthodoxChristmas,\n",
        "        sum(OrthodoxEaster) as OrthodoxEaster,\n",
        "        sum(Pesach) as Pesach,\n",
        "        sum(PresidentsDay) as PresidentsDay,\n",
        "        sum(Purim) as Purim,\n",
        "        sum(Ramadan) as Ramadan,\n",
        "        sum(StPatricksDay) as StPatricksDay,\n",
        "        sum(SuperBowl) as SuperBowl,\n",
        "        sum(Thanksgiving) as Thanksgiving,\n",
        "        sum(ValentinesDay) as ValentinesDay,\n",
        "        sum(VeteransDay) as VeteransDay\n",
        "    from (\n",
        "    select  \n",
        "        tmp_calendar.date,\n",
        "        case when new_events.event_name = 'Chanukah' then 1 else 0 end as Chanukah,\n",
        "        case when new_events.event_name = 'Christmas' then 1 else 0 end as Christmas,\n",
        "        case when new_events.event_name = 'CincoDeMayo' then 1 else 0 end as CincoDeMayo,\n",
        "        case when new_events.event_name = 'ColumbusDay' then 1 else 0 end as ColumbusDay,\n",
        "        case when new_events.event_name = 'Easter' then 1 else 0 end as Easter,\n",
        "        case when new_events.event_name = 'EidAlFitr' then 1 else 0 end as EidAlFitr,\n",
        "        case when new_events.event_name = 'EidAlAdha' then 1 else 0 end as EidAlAdha,\n",
        "        case when new_events.event_name = 'FathersDay' then 1 else 0 end as FathersDay,\n",
        "        case when new_events.event_name = 'Halloween' then 1 else 0 end as Halloween,\n",
        "        case when new_events.event_name = 'IndependenceDay' then 1 else 0 end as IndependenceDay,\n",
        "        case when new_events.event_name = 'LaborDay' then 1 else 0 end as LaborDay,\n",
        "        case when new_events.event_name = 'Lent' then 1 else 0 end as Lent,\n",
        "        case when new_events.event_name = 'MartinLutherKingDay' then 1 else 0 end as MartinLutherKingDay,\n",
        "        case when new_events.event_name = 'MemorialDay' then 1 else 0 end as MemorialDay,\n",
        "        case when new_events.event_name = 'MothersDay' then 1 else 0 end as MothersDay,\n",
        "        case when new_events.event_name = 'NBAFinal' then 1 else 0 end as NBAFinal,\n",
        "        case when new_events.event_name = 'NewYear' then 1 else 0 end as NewYear,\n",
        "        case when new_events.event_name = 'OrthodoxChristmas' then 1 else 0 end as OrthodoxChristmas,\n",
        "        case when new_events.event_name = 'OrthodoxEaster' then 1 else 0 end as OrthodoxEaster,\n",
        "        case when new_events.event_name = 'Pesach' then 1 else 0 end as Pesach,\n",
        "        case when new_events.event_name = 'PresidentsDay' then 1 else 0 end as PresidentsDay,\n",
        "        case when new_events.event_name = 'Purim' then 1 else 0 end as Purim,\n",
        "        case when new_events.event_name = 'Ramadan' then 1 else 0 end as Ramadan,\n",
        "        case when new_events.event_name = 'StPatricksDay' then 1 else 0 end as StPatricksDay,\n",
        "        case when new_events.event_name = 'SuperBowl' then 1 else 0 end as SuperBowl,\n",
        "        case when new_events.event_name = 'Thanksgiving' then 1 else 0 end as Thanksgiving,\n",
        "        case when new_events.event_name = 'ValentinesDay' then 1 else 0 end as ValentinesDay,\n",
        "        case when new_events.event_name = 'VeteransDay' then 1 else 0 end as VeteransDay\n",
        "    from tmp_calendar  \n",
        "    left outer join new_events\n",
        "     on \n",
        "        tmp_calendar.date between new_events.from_day and new_events.to_day\n",
        "    )\n",
        "    group by date\n",
        "    order by date\n",
        "    '''\n",
        "event_name_calendar = pd.read_sql_query(qry, conn)"
      ],
      "execution_count": 0,
      "outputs": []
    },
    {
      "cell_type": "code",
      "metadata": {
        "id": "ecPL_UtcskIa",
        "colab_type": "code",
        "outputId": "ed013295-ac83-47b8-d5ba-688ab34e1c28",
        "colab": {
          "base_uri": "https://localhost:8080/",
          "height": 527
        }
      },
      "source": [
        "event_name_calendar.count()"
      ],
      "execution_count": 93,
      "outputs": [
        {
          "output_type": "execute_result",
          "data": {
            "text/plain": [
              "date                   1969\n",
              "Chanukah               1969\n",
              "Christmas              1969\n",
              "CincoDeMayo            1969\n",
              "ColumbusDay            1969\n",
              "Easter                 1969\n",
              "EidAlFitr              1969\n",
              "EidAlAdha              1969\n",
              "FathersDay             1969\n",
              "Halloween              1969\n",
              "IndependenceDay        1969\n",
              "LaborDay               1969\n",
              "Lent                   1969\n",
              "MartinLutherKingDay    1969\n",
              "MemorialDay            1969\n",
              "MothersDay             1969\n",
              "NBAFinal               1969\n",
              "NewYear                1969\n",
              "OrthodoxChristmas      1969\n",
              "OrthodoxEaster         1969\n",
              "Pesach                 1969\n",
              "PresidentsDay          1969\n",
              "Purim                  1969\n",
              "Ramadan                1969\n",
              "StPatricksDay          1969\n",
              "SuperBowl              1969\n",
              "Thanksgiving           1969\n",
              "ValentinesDay          1969\n",
              "VeteransDay            1969\n",
              "dtype: int64"
            ]
          },
          "metadata": {
            "tags": []
          },
          "execution_count": 93
        }
      ]
    },
    {
      "cell_type": "code",
      "metadata": {
        "id": "fguJsNQXtBtb",
        "colab_type": "code",
        "outputId": "ce499fb7-934c-40f7-a36e-0781f57bdbd3",
        "colab": {
          "base_uri": "https://localhost:8080/",
          "height": 309
        }
      },
      "source": [
        "event_name_calendar.head()"
      ],
      "execution_count": 94,
      "outputs": [
        {
          "output_type": "execute_result",
          "data": {
            "text/html": [
              "<div>\n",
              "<style scoped>\n",
              "    .dataframe tbody tr th:only-of-type {\n",
              "        vertical-align: middle;\n",
              "    }\n",
              "\n",
              "    .dataframe tbody tr th {\n",
              "        vertical-align: top;\n",
              "    }\n",
              "\n",
              "    .dataframe thead th {\n",
              "        text-align: right;\n",
              "    }\n",
              "</style>\n",
              "<table border=\"1\" class=\"dataframe\">\n",
              "  <thead>\n",
              "    <tr style=\"text-align: right;\">\n",
              "      <th></th>\n",
              "      <th>date</th>\n",
              "      <th>Chanukah</th>\n",
              "      <th>Christmas</th>\n",
              "      <th>CincoDeMayo</th>\n",
              "      <th>ColumbusDay</th>\n",
              "      <th>Easter</th>\n",
              "      <th>EidAlFitr</th>\n",
              "      <th>EidAlAdha</th>\n",
              "      <th>FathersDay</th>\n",
              "      <th>Halloween</th>\n",
              "      <th>IndependenceDay</th>\n",
              "      <th>LaborDay</th>\n",
              "      <th>Lent</th>\n",
              "      <th>MartinLutherKingDay</th>\n",
              "      <th>MemorialDay</th>\n",
              "      <th>MothersDay</th>\n",
              "      <th>NBAFinal</th>\n",
              "      <th>NewYear</th>\n",
              "      <th>OrthodoxChristmas</th>\n",
              "      <th>OrthodoxEaster</th>\n",
              "      <th>Pesach</th>\n",
              "      <th>PresidentsDay</th>\n",
              "      <th>Purim</th>\n",
              "      <th>Ramadan</th>\n",
              "      <th>StPatricksDay</th>\n",
              "      <th>SuperBowl</th>\n",
              "      <th>Thanksgiving</th>\n",
              "      <th>ValentinesDay</th>\n",
              "      <th>VeteransDay</th>\n",
              "    </tr>\n",
              "  </thead>\n",
              "  <tbody>\n",
              "    <tr>\n",
              "      <th>0</th>\n",
              "      <td>2011-01-29</td>\n",
              "      <td>0</td>\n",
              "      <td>0</td>\n",
              "      <td>0</td>\n",
              "      <td>0</td>\n",
              "      <td>0</td>\n",
              "      <td>0</td>\n",
              "      <td>0</td>\n",
              "      <td>0</td>\n",
              "      <td>0</td>\n",
              "      <td>0</td>\n",
              "      <td>0</td>\n",
              "      <td>0</td>\n",
              "      <td>0</td>\n",
              "      <td>0</td>\n",
              "      <td>0</td>\n",
              "      <td>0</td>\n",
              "      <td>0</td>\n",
              "      <td>0</td>\n",
              "      <td>0</td>\n",
              "      <td>0</td>\n",
              "      <td>0</td>\n",
              "      <td>0</td>\n",
              "      <td>0</td>\n",
              "      <td>0</td>\n",
              "      <td>0</td>\n",
              "      <td>0</td>\n",
              "      <td>0</td>\n",
              "      <td>0</td>\n",
              "    </tr>\n",
              "    <tr>\n",
              "      <th>1</th>\n",
              "      <td>2011-01-30</td>\n",
              "      <td>0</td>\n",
              "      <td>0</td>\n",
              "      <td>0</td>\n",
              "      <td>0</td>\n",
              "      <td>0</td>\n",
              "      <td>0</td>\n",
              "      <td>0</td>\n",
              "      <td>0</td>\n",
              "      <td>0</td>\n",
              "      <td>0</td>\n",
              "      <td>0</td>\n",
              "      <td>0</td>\n",
              "      <td>0</td>\n",
              "      <td>0</td>\n",
              "      <td>0</td>\n",
              "      <td>0</td>\n",
              "      <td>0</td>\n",
              "      <td>0</td>\n",
              "      <td>0</td>\n",
              "      <td>0</td>\n",
              "      <td>0</td>\n",
              "      <td>0</td>\n",
              "      <td>0</td>\n",
              "      <td>0</td>\n",
              "      <td>0</td>\n",
              "      <td>0</td>\n",
              "      <td>0</td>\n",
              "      <td>0</td>\n",
              "    </tr>\n",
              "    <tr>\n",
              "      <th>2</th>\n",
              "      <td>2011-01-31</td>\n",
              "      <td>0</td>\n",
              "      <td>0</td>\n",
              "      <td>0</td>\n",
              "      <td>0</td>\n",
              "      <td>0</td>\n",
              "      <td>0</td>\n",
              "      <td>0</td>\n",
              "      <td>0</td>\n",
              "      <td>0</td>\n",
              "      <td>0</td>\n",
              "      <td>0</td>\n",
              "      <td>0</td>\n",
              "      <td>0</td>\n",
              "      <td>0</td>\n",
              "      <td>0</td>\n",
              "      <td>0</td>\n",
              "      <td>0</td>\n",
              "      <td>0</td>\n",
              "      <td>0</td>\n",
              "      <td>0</td>\n",
              "      <td>0</td>\n",
              "      <td>0</td>\n",
              "      <td>0</td>\n",
              "      <td>0</td>\n",
              "      <td>0</td>\n",
              "      <td>0</td>\n",
              "      <td>0</td>\n",
              "      <td>0</td>\n",
              "    </tr>\n",
              "    <tr>\n",
              "      <th>3</th>\n",
              "      <td>2011-02-01</td>\n",
              "      <td>0</td>\n",
              "      <td>0</td>\n",
              "      <td>0</td>\n",
              "      <td>0</td>\n",
              "      <td>0</td>\n",
              "      <td>0</td>\n",
              "      <td>0</td>\n",
              "      <td>0</td>\n",
              "      <td>0</td>\n",
              "      <td>0</td>\n",
              "      <td>0</td>\n",
              "      <td>0</td>\n",
              "      <td>0</td>\n",
              "      <td>0</td>\n",
              "      <td>0</td>\n",
              "      <td>0</td>\n",
              "      <td>0</td>\n",
              "      <td>0</td>\n",
              "      <td>0</td>\n",
              "      <td>0</td>\n",
              "      <td>0</td>\n",
              "      <td>0</td>\n",
              "      <td>0</td>\n",
              "      <td>0</td>\n",
              "      <td>0</td>\n",
              "      <td>0</td>\n",
              "      <td>0</td>\n",
              "      <td>0</td>\n",
              "    </tr>\n",
              "    <tr>\n",
              "      <th>4</th>\n",
              "      <td>2011-02-02</td>\n",
              "      <td>0</td>\n",
              "      <td>0</td>\n",
              "      <td>0</td>\n",
              "      <td>0</td>\n",
              "      <td>0</td>\n",
              "      <td>0</td>\n",
              "      <td>0</td>\n",
              "      <td>0</td>\n",
              "      <td>0</td>\n",
              "      <td>0</td>\n",
              "      <td>0</td>\n",
              "      <td>0</td>\n",
              "      <td>0</td>\n",
              "      <td>0</td>\n",
              "      <td>0</td>\n",
              "      <td>0</td>\n",
              "      <td>0</td>\n",
              "      <td>0</td>\n",
              "      <td>0</td>\n",
              "      <td>0</td>\n",
              "      <td>0</td>\n",
              "      <td>0</td>\n",
              "      <td>0</td>\n",
              "      <td>0</td>\n",
              "      <td>0</td>\n",
              "      <td>0</td>\n",
              "      <td>0</td>\n",
              "      <td>0</td>\n",
              "    </tr>\n",
              "  </tbody>\n",
              "</table>\n",
              "</div>"
            ],
            "text/plain": [
              "         date  Chanukah  Christmas  CincoDeMayo  ColumbusDay  Easter  \\\n",
              "0  2011-01-29         0          0            0            0       0   \n",
              "1  2011-01-30         0          0            0            0       0   \n",
              "2  2011-01-31         0          0            0            0       0   \n",
              "3  2011-02-01         0          0            0            0       0   \n",
              "4  2011-02-02         0          0            0            0       0   \n",
              "\n",
              "   EidAlFitr  EidAlAdha  FathersDay  Halloween  IndependenceDay  LaborDay  \\\n",
              "0          0          0           0          0                0         0   \n",
              "1          0          0           0          0                0         0   \n",
              "2          0          0           0          0                0         0   \n",
              "3          0          0           0          0                0         0   \n",
              "4          0          0           0          0                0         0   \n",
              "\n",
              "   Lent  MartinLutherKingDay  MemorialDay  MothersDay  NBAFinal  NewYear  \\\n",
              "0     0                    0            0           0         0        0   \n",
              "1     0                    0            0           0         0        0   \n",
              "2     0                    0            0           0         0        0   \n",
              "3     0                    0            0           0         0        0   \n",
              "4     0                    0            0           0         0        0   \n",
              "\n",
              "   OrthodoxChristmas  OrthodoxEaster  Pesach  PresidentsDay  Purim  Ramadan  \\\n",
              "0                  0               0       0              0      0        0   \n",
              "1                  0               0       0              0      0        0   \n",
              "2                  0               0       0              0      0        0   \n",
              "3                  0               0       0              0      0        0   \n",
              "4                  0               0       0              0      0        0   \n",
              "\n",
              "   StPatricksDay  SuperBowl  Thanksgiving  ValentinesDay  VeteransDay  \n",
              "0              0          0             0              0            0  \n",
              "1              0          0             0              0            0  \n",
              "2              0          0             0              0            0  \n",
              "3              0          0             0              0            0  \n",
              "4              0          0             0              0            0  "
            ]
          },
          "metadata": {
            "tags": []
          },
          "execution_count": 94
        }
      ]
    },
    {
      "cell_type": "code",
      "metadata": {
        "id": "ufKUt74PtHRq",
        "colab_type": "code",
        "colab": {}
      },
      "source": [
        "event_name_calendar.to_csv('/content/event_name_calendar.csv')"
      ],
      "execution_count": 0,
      "outputs": []
    },
    {
      "cell_type": "code",
      "metadata": {
        "id": "iKjk062xwF1z",
        "colab_type": "code",
        "colab": {}
      },
      "source": [
        "# event_type毎にイベント日にフラグを立てる。イベントが重複しても1となる。\n",
        "qry = '''\n",
        "    select\n",
        "        date,\n",
        "        sum(Chanukah) as E01,\n",
        "        sum(Christmas) as E02,\n",
        "        sum(CincoDeMayo) as E03,\n",
        "        sum(ColumbusDay) as E04,\n",
        "        sum(Easter) as E05,\n",
        "        sum(EidAlFitr) as E06,\n",
        "        sum(EidAlAdha) as E07,\n",
        "        sum(FathersDay) as E08,\n",
        "        sum(Halloween) as E09,\n",
        "        sum(IndependenceDay) as E10,\n",
        "        sum(LaborDay) as E11,\n",
        "        sum(Lent) as E12,\n",
        "        sum(MartinLutherKingDay) as E13,\n",
        "        sum(MemorialDay) as E14,\n",
        "        sum(MothersDay) as E15,\n",
        "        sum(NBAFinal) as E16,\n",
        "        sum(NewYear) as E17,\n",
        "        sum(OrthodoxChristmas) as E18,\n",
        "        sum(OrthodoxEaster) as E19,\n",
        "        sum(Pesach) as E20,\n",
        "        sum(PresidentsDay) as E21,\n",
        "        sum(Purim) as E22,\n",
        "        sum(Ramadan) as E23,\n",
        "        sum(StPatricksDay) as E24,\n",
        "        sum(SuperBowl) as E25,\n",
        "        sum(Thanksgiving) as E26,\n",
        "        sum(ValentinesDay) as E27,\n",
        "        sum(VeteransDay) as E28\n",
        "    from (\n",
        "    select  \n",
        "        tmp_calendar.date,\n",
        "        case when new_events.event_name = 'Chanukah' then 1 else 0 end as Chanukah,\n",
        "        case when new_events.event_name = 'Christmas' then 1 else 0 end as Christmas,\n",
        "        case when new_events.event_name = 'CincoDeMayo' then 1 else 0 end as CincoDeMayo,\n",
        "        case when new_events.event_name = 'ColumbusDay' then 1 else 0 end as ColumbusDay,\n",
        "        case when new_events.event_name = 'Easter' then 1 else 0 end as Easter,\n",
        "        case when new_events.event_name = 'EidAlFitr' then 1 else 0 end as EidAlFitr,\n",
        "        case when new_events.event_name = 'EidAlAdha' then 1 else 0 end as EidAlAdha,\n",
        "        case when new_events.event_name = 'FathersDay' then 1 else 0 end as FathersDay,\n",
        "        case when new_events.event_name = 'Halloween' then 1 else 0 end as Halloween,\n",
        "        case when new_events.event_name = 'IndependenceDay' then 1 else 0 end as IndependenceDay,\n",
        "        case when new_events.event_name = 'LaborDay' then 1 else 0 end as LaborDay,\n",
        "        case when new_events.event_name = 'Lent' then 1 else 0 end as Lent,\n",
        "        case when new_events.event_name = 'MartinLutherKingDay' then 1 else 0 end as MartinLutherKingDay,\n",
        "        case when new_events.event_name = 'MemorialDay' then 1 else 0 end as MemorialDay,\n",
        "        case when new_events.event_name = 'MothersDay' then 1 else 0 end as MothersDay,\n",
        "        case when new_events.event_name = 'NBAFinal' then 1 else 0 end as NBAFinal,\n",
        "        case when new_events.event_name = 'NewYear' then 1 else 0 end as NewYear,\n",
        "        case when new_events.event_name = 'OrthodoxChristmas' then 1 else 0 end as OrthodoxChristmas,\n",
        "        case when new_events.event_name = 'OrthodoxEaster' then 1 else 0 end as OrthodoxEaster,\n",
        "        case when new_events.event_name = 'Pesach' then 1 else 0 end as Pesach,\n",
        "        case when new_events.event_name = 'PresidentsDay' then 1 else 0 end as PresidentsDay,\n",
        "        case when new_events.event_name = 'Purim' then 1 else 0 end as Purim,\n",
        "        case when new_events.event_name = 'Ramadan' then 1 else 0 end as Ramadan,\n",
        "        case when new_events.event_name = 'StPatricksDay' then 1 else 0 end as StPatricksDay,\n",
        "        case when new_events.event_name = 'SuperBowl' then 1 else 0 end as SuperBowl,\n",
        "        case when new_events.event_name = 'Thanksgiving' then 1 else 0 end as Thanksgiving,\n",
        "        case when new_events.event_name = 'ValentinesDay' then 1 else 0 end as ValentinesDay,\n",
        "        case when new_events.event_name = 'VeteransDay' then 1 else 0 end as VeteransDay\n",
        "    from tmp_calendar  \n",
        "    left outer join new_events\n",
        "     on \n",
        "        tmp_calendar.date between new_events.from_day and new_events.to_day\n",
        "    )\n",
        "    group by date\n",
        "    order by date\n",
        "    '''\n",
        "event_code_calendar = pd.read_sql_query(qry, conn)"
      ],
      "execution_count": 0,
      "outputs": []
    },
    {
      "cell_type": "code",
      "metadata": {
        "id": "FrR2nQimxZhR",
        "colab_type": "code",
        "outputId": "619f81fb-58d0-4459-a257-59dbcce38b03",
        "colab": {
          "base_uri": "https://localhost:8080/",
          "height": 204
        }
      },
      "source": [
        "event_code_calendar.head()"
      ],
      "execution_count": 97,
      "outputs": [
        {
          "output_type": "execute_result",
          "data": {
            "text/html": [
              "<div>\n",
              "<style scoped>\n",
              "    .dataframe tbody tr th:only-of-type {\n",
              "        vertical-align: middle;\n",
              "    }\n",
              "\n",
              "    .dataframe tbody tr th {\n",
              "        vertical-align: top;\n",
              "    }\n",
              "\n",
              "    .dataframe thead th {\n",
              "        text-align: right;\n",
              "    }\n",
              "</style>\n",
              "<table border=\"1\" class=\"dataframe\">\n",
              "  <thead>\n",
              "    <tr style=\"text-align: right;\">\n",
              "      <th></th>\n",
              "      <th>date</th>\n",
              "      <th>E01</th>\n",
              "      <th>E02</th>\n",
              "      <th>E03</th>\n",
              "      <th>E04</th>\n",
              "      <th>E05</th>\n",
              "      <th>E06</th>\n",
              "      <th>E07</th>\n",
              "      <th>E08</th>\n",
              "      <th>E09</th>\n",
              "      <th>E10</th>\n",
              "      <th>E11</th>\n",
              "      <th>E12</th>\n",
              "      <th>E13</th>\n",
              "      <th>E14</th>\n",
              "      <th>E15</th>\n",
              "      <th>E16</th>\n",
              "      <th>E17</th>\n",
              "      <th>E18</th>\n",
              "      <th>E19</th>\n",
              "      <th>E20</th>\n",
              "      <th>E21</th>\n",
              "      <th>E22</th>\n",
              "      <th>E23</th>\n",
              "      <th>E24</th>\n",
              "      <th>E25</th>\n",
              "      <th>E26</th>\n",
              "      <th>E27</th>\n",
              "      <th>E28</th>\n",
              "    </tr>\n",
              "  </thead>\n",
              "  <tbody>\n",
              "    <tr>\n",
              "      <th>0</th>\n",
              "      <td>2011-01-29</td>\n",
              "      <td>0</td>\n",
              "      <td>0</td>\n",
              "      <td>0</td>\n",
              "      <td>0</td>\n",
              "      <td>0</td>\n",
              "      <td>0</td>\n",
              "      <td>0</td>\n",
              "      <td>0</td>\n",
              "      <td>0</td>\n",
              "      <td>0</td>\n",
              "      <td>0</td>\n",
              "      <td>0</td>\n",
              "      <td>0</td>\n",
              "      <td>0</td>\n",
              "      <td>0</td>\n",
              "      <td>0</td>\n",
              "      <td>0</td>\n",
              "      <td>0</td>\n",
              "      <td>0</td>\n",
              "      <td>0</td>\n",
              "      <td>0</td>\n",
              "      <td>0</td>\n",
              "      <td>0</td>\n",
              "      <td>0</td>\n",
              "      <td>0</td>\n",
              "      <td>0</td>\n",
              "      <td>0</td>\n",
              "      <td>0</td>\n",
              "    </tr>\n",
              "    <tr>\n",
              "      <th>1</th>\n",
              "      <td>2011-01-30</td>\n",
              "      <td>0</td>\n",
              "      <td>0</td>\n",
              "      <td>0</td>\n",
              "      <td>0</td>\n",
              "      <td>0</td>\n",
              "      <td>0</td>\n",
              "      <td>0</td>\n",
              "      <td>0</td>\n",
              "      <td>0</td>\n",
              "      <td>0</td>\n",
              "      <td>0</td>\n",
              "      <td>0</td>\n",
              "      <td>0</td>\n",
              "      <td>0</td>\n",
              "      <td>0</td>\n",
              "      <td>0</td>\n",
              "      <td>0</td>\n",
              "      <td>0</td>\n",
              "      <td>0</td>\n",
              "      <td>0</td>\n",
              "      <td>0</td>\n",
              "      <td>0</td>\n",
              "      <td>0</td>\n",
              "      <td>0</td>\n",
              "      <td>0</td>\n",
              "      <td>0</td>\n",
              "      <td>0</td>\n",
              "      <td>0</td>\n",
              "    </tr>\n",
              "    <tr>\n",
              "      <th>2</th>\n",
              "      <td>2011-01-31</td>\n",
              "      <td>0</td>\n",
              "      <td>0</td>\n",
              "      <td>0</td>\n",
              "      <td>0</td>\n",
              "      <td>0</td>\n",
              "      <td>0</td>\n",
              "      <td>0</td>\n",
              "      <td>0</td>\n",
              "      <td>0</td>\n",
              "      <td>0</td>\n",
              "      <td>0</td>\n",
              "      <td>0</td>\n",
              "      <td>0</td>\n",
              "      <td>0</td>\n",
              "      <td>0</td>\n",
              "      <td>0</td>\n",
              "      <td>0</td>\n",
              "      <td>0</td>\n",
              "      <td>0</td>\n",
              "      <td>0</td>\n",
              "      <td>0</td>\n",
              "      <td>0</td>\n",
              "      <td>0</td>\n",
              "      <td>0</td>\n",
              "      <td>0</td>\n",
              "      <td>0</td>\n",
              "      <td>0</td>\n",
              "      <td>0</td>\n",
              "    </tr>\n",
              "    <tr>\n",
              "      <th>3</th>\n",
              "      <td>2011-02-01</td>\n",
              "      <td>0</td>\n",
              "      <td>0</td>\n",
              "      <td>0</td>\n",
              "      <td>0</td>\n",
              "      <td>0</td>\n",
              "      <td>0</td>\n",
              "      <td>0</td>\n",
              "      <td>0</td>\n",
              "      <td>0</td>\n",
              "      <td>0</td>\n",
              "      <td>0</td>\n",
              "      <td>0</td>\n",
              "      <td>0</td>\n",
              "      <td>0</td>\n",
              "      <td>0</td>\n",
              "      <td>0</td>\n",
              "      <td>0</td>\n",
              "      <td>0</td>\n",
              "      <td>0</td>\n",
              "      <td>0</td>\n",
              "      <td>0</td>\n",
              "      <td>0</td>\n",
              "      <td>0</td>\n",
              "      <td>0</td>\n",
              "      <td>0</td>\n",
              "      <td>0</td>\n",
              "      <td>0</td>\n",
              "      <td>0</td>\n",
              "    </tr>\n",
              "    <tr>\n",
              "      <th>4</th>\n",
              "      <td>2011-02-02</td>\n",
              "      <td>0</td>\n",
              "      <td>0</td>\n",
              "      <td>0</td>\n",
              "      <td>0</td>\n",
              "      <td>0</td>\n",
              "      <td>0</td>\n",
              "      <td>0</td>\n",
              "      <td>0</td>\n",
              "      <td>0</td>\n",
              "      <td>0</td>\n",
              "      <td>0</td>\n",
              "      <td>0</td>\n",
              "      <td>0</td>\n",
              "      <td>0</td>\n",
              "      <td>0</td>\n",
              "      <td>0</td>\n",
              "      <td>0</td>\n",
              "      <td>0</td>\n",
              "      <td>0</td>\n",
              "      <td>0</td>\n",
              "      <td>0</td>\n",
              "      <td>0</td>\n",
              "      <td>0</td>\n",
              "      <td>0</td>\n",
              "      <td>0</td>\n",
              "      <td>0</td>\n",
              "      <td>0</td>\n",
              "      <td>0</td>\n",
              "    </tr>\n",
              "  </tbody>\n",
              "</table>\n",
              "</div>"
            ],
            "text/plain": [
              "         date  E01  E02  E03  E04  E05  E06  E07  E08  E09  E10  E11  E12  \\\n",
              "0  2011-01-29    0    0    0    0    0    0    0    0    0    0    0    0   \n",
              "1  2011-01-30    0    0    0    0    0    0    0    0    0    0    0    0   \n",
              "2  2011-01-31    0    0    0    0    0    0    0    0    0    0    0    0   \n",
              "3  2011-02-01    0    0    0    0    0    0    0    0    0    0    0    0   \n",
              "4  2011-02-02    0    0    0    0    0    0    0    0    0    0    0    0   \n",
              "\n",
              "   E13  E14  E15  E16  E17  E18  E19  E20  E21  E22  E23  E24  E25  E26  E27  \\\n",
              "0    0    0    0    0    0    0    0    0    0    0    0    0    0    0    0   \n",
              "1    0    0    0    0    0    0    0    0    0    0    0    0    0    0    0   \n",
              "2    0    0    0    0    0    0    0    0    0    0    0    0    0    0    0   \n",
              "3    0    0    0    0    0    0    0    0    0    0    0    0    0    0    0   \n",
              "4    0    0    0    0    0    0    0    0    0    0    0    0    0    0    0   \n",
              "\n",
              "   E28  \n",
              "0    0  \n",
              "1    0  \n",
              "2    0  \n",
              "3    0  \n",
              "4    0  "
            ]
          },
          "metadata": {
            "tags": []
          },
          "execution_count": 97
        }
      ]
    },
    {
      "cell_type": "code",
      "metadata": {
        "id": "P6Ejol_gwy72",
        "colab_type": "code",
        "colab": {}
      },
      "source": [
        "event_code_calendar.to_csv('/content/event_code_calendar.csv')"
      ],
      "execution_count": 0,
      "outputs": []
    },
    {
      "cell_type": "markdown",
      "metadata": {
        "id": "-O2UQOpLQCOh",
        "colab_type": "text"
      },
      "source": [
        "# \b休日テーブルの生成\n",
        "## 作るもの\n",
        "- Date   : yyyy-mm-dd\n",
        "- holiday: 0:平日、1:休日\n",
        "- daysleft1:休みの前日を含まない日数　\n",
        "- daysleft2:休みの前日を含む日数\n",
        "\n",
        "## 備考\n",
        "http://www.startoption.com/holidays/2011/north_america/usa.html  \n",
        "この辺りのカレンダーを見るとNationalのイベントが祝日  \n",
        "宗教関連のイベントは法定休日ではない \n",
        "\n",
        "\n",
        "\n"
      ]
    },
    {
      "cell_type": "code",
      "metadata": {
        "id": "98QjZ242P2gN",
        "colab_type": "code",
        "colab": {}
      },
      "source": [
        "tmp_events = calender.loc[ : , ['date','wm_yr_wk','wday','event_type_1','event_name_1']].rename(columns={'event_type_1': 'event_type','event_name_1': 'event_name'})"
      ],
      "execution_count": 0,
      "outputs": []
    },
    {
      "cell_type": "code",
      "metadata": {
        "id": "RIHhK5K9CfVi",
        "colab_type": "code",
        "colab": {}
      },
      "source": [
        "tmp_events.to_sql('tmp_events', conn, schema=None, if_exists='replace', index=False)"
      ],
      "execution_count": 0,
      "outputs": []
    },
    {
      "cell_type": "code",
      "metadata": {
        "id": "NESOHbgNEt5x",
        "colab_type": "code",
        "colab": {}
      },
      "source": [
        "#\n",
        "qry = '''\n",
        "select\n",
        "date,\n",
        "holiday,\n",
        "case when holiday=1 then holiday_count else 0 end as daysleft1,\n",
        "case when weekend=1 then weekend_count else 0 end as daysleft2\n",
        "from (\n",
        "    select\n",
        "      t2.date,\n",
        "      t2.holiday,\n",
        "      t2.weekend,\n",
        "      row_number() OVER win1 AS holiday_count,\n",
        "      row_number() OVER win2 AS weekend_count\n",
        "    from (\n",
        "      select\n",
        "        t1.date,\n",
        "        t1.wm_yr_wk,\n",
        "        SUM(t1.holiday) as holiday,\n",
        "        SUM(t1.weekend) as weekend\n",
        "      from (\n",
        "        select\n",
        "          date,\n",
        "          case when wday = 7 then wm_yr_wk + 1 else wm_yr_wk end as wm_yr_wk,\n",
        "          case when wday = 1 then 1\n",
        "             when wday = 2 then 1\n",
        "             when event_type = 'National' then 1\n",
        "             else 0\n",
        "          end as holiday,\n",
        "          case when wday = 1 then 1\n",
        "             when wday = 2 then 1\n",
        "             when wday = 7 then 1\n",
        "             when event_type = 'National' then 1\n",
        "             else 0\n",
        "          end as weekend\n",
        "        from tmp_events\n",
        "      ) t1\n",
        "      group by date, wm_yr_wk\n",
        "    ) t2\n",
        "WINDOW win1 AS (PARTITION BY t2.wm_yr_wk, t2.holiday ORDER BY t2.date DESC) ,\n",
        "       win2 AS (PARTITION BY t2.wm_yr_wk, t2.weekend ORDER BY t2.date DESC) \n",
        ")\n",
        "order by date\n",
        "'''\n",
        "holiday = pd.read_sql_query(qry, conn)"
      ],
      "execution_count": 0,
      "outputs": []
    },
    {
      "cell_type": "code",
      "metadata": {
        "id": "VyZX4TfzLN77",
        "colab_type": "code",
        "colab": {
          "base_uri": "https://localhost:8080/",
          "height": 419
        },
        "outputId": "bfa3662a-dd6a-4717-9da4-d0d3c5c80963"
      },
      "source": [
        "display(holiday)"
      ],
      "execution_count": 27,
      "outputs": [
        {
          "output_type": "display_data",
          "data": {
            "text/html": [
              "<div>\n",
              "<style scoped>\n",
              "    .dataframe tbody tr th:only-of-type {\n",
              "        vertical-align: middle;\n",
              "    }\n",
              "\n",
              "    .dataframe tbody tr th {\n",
              "        vertical-align: top;\n",
              "    }\n",
              "\n",
              "    .dataframe thead th {\n",
              "        text-align: right;\n",
              "    }\n",
              "</style>\n",
              "<table border=\"1\" class=\"dataframe\">\n",
              "  <thead>\n",
              "    <tr style=\"text-align: right;\">\n",
              "      <th></th>\n",
              "      <th>date</th>\n",
              "      <th>holiday</th>\n",
              "      <th>daysleft1</th>\n",
              "      <th>daysleft2</th>\n",
              "    </tr>\n",
              "  </thead>\n",
              "  <tbody>\n",
              "    <tr>\n",
              "      <th>0</th>\n",
              "      <td>2011-01-29</td>\n",
              "      <td>1</td>\n",
              "      <td>2</td>\n",
              "      <td>2</td>\n",
              "    </tr>\n",
              "    <tr>\n",
              "      <th>1</th>\n",
              "      <td>2011-01-30</td>\n",
              "      <td>1</td>\n",
              "      <td>1</td>\n",
              "      <td>1</td>\n",
              "    </tr>\n",
              "    <tr>\n",
              "      <th>2</th>\n",
              "      <td>2011-01-31</td>\n",
              "      <td>0</td>\n",
              "      <td>0</td>\n",
              "      <td>0</td>\n",
              "    </tr>\n",
              "    <tr>\n",
              "      <th>3</th>\n",
              "      <td>2011-02-01</td>\n",
              "      <td>0</td>\n",
              "      <td>0</td>\n",
              "      <td>0</td>\n",
              "    </tr>\n",
              "    <tr>\n",
              "      <th>4</th>\n",
              "      <td>2011-02-02</td>\n",
              "      <td>0</td>\n",
              "      <td>0</td>\n",
              "      <td>0</td>\n",
              "    </tr>\n",
              "    <tr>\n",
              "      <th>...</th>\n",
              "      <td>...</td>\n",
              "      <td>...</td>\n",
              "      <td>...</td>\n",
              "      <td>...</td>\n",
              "    </tr>\n",
              "    <tr>\n",
              "      <th>1964</th>\n",
              "      <td>2016-06-15</td>\n",
              "      <td>0</td>\n",
              "      <td>0</td>\n",
              "      <td>0</td>\n",
              "    </tr>\n",
              "    <tr>\n",
              "      <th>1965</th>\n",
              "      <td>2016-06-16</td>\n",
              "      <td>0</td>\n",
              "      <td>0</td>\n",
              "      <td>0</td>\n",
              "    </tr>\n",
              "    <tr>\n",
              "      <th>1966</th>\n",
              "      <td>2016-06-17</td>\n",
              "      <td>0</td>\n",
              "      <td>0</td>\n",
              "      <td>3</td>\n",
              "    </tr>\n",
              "    <tr>\n",
              "      <th>1967</th>\n",
              "      <td>2016-06-18</td>\n",
              "      <td>1</td>\n",
              "      <td>2</td>\n",
              "      <td>2</td>\n",
              "    </tr>\n",
              "    <tr>\n",
              "      <th>1968</th>\n",
              "      <td>2016-06-19</td>\n",
              "      <td>1</td>\n",
              "      <td>1</td>\n",
              "      <td>1</td>\n",
              "    </tr>\n",
              "  </tbody>\n",
              "</table>\n",
              "<p>1969 rows × 4 columns</p>\n",
              "</div>"
            ],
            "text/plain": [
              "            date  holiday  daysleft1  daysleft2\n",
              "0     2011-01-29        1          2          2\n",
              "1     2011-01-30        1          1          1\n",
              "2     2011-01-31        0          0          0\n",
              "3     2011-02-01        0          0          0\n",
              "4     2011-02-02        0          0          0\n",
              "...          ...      ...        ...        ...\n",
              "1964  2016-06-15        0          0          0\n",
              "1965  2016-06-16        0          0          0\n",
              "1966  2016-06-17        0          0          3\n",
              "1967  2016-06-18        1          2          2\n",
              "1968  2016-06-19        1          1          1\n",
              "\n",
              "[1969 rows x 4 columns]"
            ]
          },
          "metadata": {
            "tags": []
          }
        }
      ]
    },
    {
      "cell_type": "code",
      "metadata": {
        "id": "mZnzYWnIca9t",
        "colab_type": "code",
        "colab": {
          "base_uri": "https://localhost:8080/",
          "height": 102
        },
        "outputId": "4e063d40-7de1-4969-bc0b-9d1f16e8c92f"
      },
      "source": [
        "holiday.count()"
      ],
      "execution_count": 30,
      "outputs": [
        {
          "output_type": "execute_result",
          "data": {
            "text/plain": [
              "date         1969\n",
              "holiday      1969\n",
              "daysleft1    1969\n",
              "daysleft2    1969\n",
              "dtype: int64"
            ]
          },
          "metadata": {
            "tags": []
          },
          "execution_count": 30
        }
      ]
    },
    {
      "cell_type": "code",
      "metadata": {
        "id": "S0R-b1x9cIJp",
        "colab_type": "code",
        "colab": {}
      },
      "source": [
        "holiday.to_csv('/content/holiday.csv')"
      ],
      "execution_count": 0,
      "outputs": []
    }
  ]
}